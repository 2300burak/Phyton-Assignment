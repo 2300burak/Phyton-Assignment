{
 "cells": [
  {
   "cell_type": "code",
   "execution_count": 1,
   "metadata": {},
   "outputs": [
    {
     "name": "stdout",
     "output_type": "stream",
     "text": [
      "Please enter a sentence :hippo runs to us!\n",
      "{'p': 2, ' ': 3, 'o': 2, 's': 2, 'u': 2, 't': 1, 'r': 1, 'n': 1, '!': 1, 'i': 1, 'h': 1}\n"
     ]
    }
   ],
   "source": [
    "a=list(input(\"Please enter a sentence :\"))\n",
    "b={}\n",
    "for i in set(a):\n",
    "    b.update({i:a.count(i)})\n",
    "print(b)"
   ]
  },
  {
   "cell_type": "code",
   "execution_count": null,
   "metadata": {},
   "outputs": [],
   "source": []
  }
 ],
 "metadata": {
  "kernelspec": {
   "display_name": "Python 3",
   "language": "python",
   "name": "python3"
  },
  "language_info": {
   "codemirror_mode": {
    "name": "ipython",
    "version": 3
   },
   "file_extension": ".py",
   "mimetype": "text/x-python",
   "name": "python",
   "nbconvert_exporter": "python",
   "pygments_lexer": "ipython3",
   "version": "3.7.6"
  }
 },
 "nbformat": 4,
 "nbformat_minor": 4
}
